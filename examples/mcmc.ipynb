{
 "cells": [
  {
   "cell_type": "code",
   "execution_count": 1,
   "metadata": {
    "collapsed": true
   },
   "outputs": [],
   "source": [
    "import numpy as np\n",
    "\n",
    "import torch\n",
    "import pyro.distributions as dist\n",
    "\n",
    "import pyro\n",
    "import pyro.poutine as poutine\n",
    "from pyro.infer.mcmc import MCMC, NUTS, HMC\n",
    "from pyro.infer import EmpiricalMarginal\n",
    "\n",
    "import arviz as az"
   ]
  },
  {
   "cell_type": "code",
   "execution_count": 2,
   "metadata": {},
   "outputs": [
    {
     "data": {
      "text/plain": [
       "'0.3.1'"
      ]
     },
     "execution_count": 2,
     "metadata": {},
     "output_type": "execute_result"
    }
   ],
   "source": [
    "az.__version__"
   ]
  },
  {
   "cell_type": "code",
   "execution_count": 3,
   "metadata": {
    "collapsed": true
   },
   "outputs": [],
   "source": [
    "torch.set_default_tensor_type('torch.DoubleTensor')"
   ]
  },
  {
   "cell_type": "markdown",
   "metadata": {},
   "source": [
    "# Data"
   ]
  },
  {
   "cell_type": "code",
   "execution_count": 13,
   "metadata": {
    "collapsed": true
   },
   "outputs": [],
   "source": [
    "np.random.seed(123)\n",
    "\n",
    "# True parameter values\n",
    "alpha, sigma = 1.0, 1.0\n",
    "beta = torch.tensor(np.array([1.0, 2.5]))\n",
    "\n",
    "# Size of dataset\n",
    "size = 100\n",
    "\n",
    "# Predictor variable\n",
    "X1 = torch.tensor(np.random.randn(size))\n",
    "X2 = torch.tensor(np.random.randn(size) * 0.2)\n",
    "\n",
    "# Simulate outcome variable\n",
    "Y = alpha + beta[0]*X1 + beta[1]*X2 + torch.tensor(np.random.randn(size)) * sigma"
   ]
  },
  {
   "cell_type": "markdown",
   "metadata": {},
   "source": [
    "# Model"
   ]
  },
  {
   "cell_type": "code",
   "execution_count": 14,
   "metadata": {
    "collapsed": true
   },
   "outputs": [],
   "source": [
    "#     # Priors for unknown model parameters\n",
    "#     alpha = pm.Normal('alpha', mu=0, sigma=10)\n",
    "#     beta = pm.Normal('beta', mu=0, sigma=10, shape=2)\n",
    "#     sigma = pm.HalfNormal('sigma', sigma=1)\n",
    "\n",
    "#     # Expected value of outcome\n",
    "#     mu = alpha + beta[0]*X1 + beta[1]*X2\n",
    "\n",
    "#     # Likelihood (sampling distribution) of observations\n",
    "#     Y_obs = pm.Normal('Y_obs', mu=mu, sigma=sigma, observed=Y)"
   ]
  },
  {
   "cell_type": "code",
   "execution_count": 15,
   "metadata": {
    "collapsed": true
   },
   "outputs": [],
   "source": [
    "def model(x1, x2):\n",
    "    \n",
    "    alpha = pyro.sample('alpha', dist.Normal(0, 10))\n",
    "    beta = pyro.sample('beta', dist.Normal(torch.zeros(2), torch.Tensor([10, 10])))\n",
    "    sigma = pyro.sample('sigma', dist.HalfNormal(scale=1))\n",
    "    \n",
    "#     print(alpha)\n",
    "#     print(beta)\n",
    "#     print(sigma)\n",
    "    \n",
    "    mu = alpha + beta[0] * x1 + beta[1] * x2\n",
    "    \n",
    "#     print(mu)\n",
    "    \n",
    "    y = pyro.sample('y', dist.Normal(mu, sigma))\n",
    "    return y\n",
    "\n",
    "def conditioned_model(model, x1, x2, y):\n",
    "    return poutine.condition(model, data={'y': y})(x1, x2)"
   ]
  },
  {
   "cell_type": "code",
   "execution_count": 19,
   "metadata": {
    "collapsed": true
   },
   "outputs": [],
   "source": [
    "class Model(object):\n",
    "    \n",
    "    def __init__(self, *args, **kwargs):\n",
    "        for key, value in kwargs.items():\n",
    "            setattr(self, key, value)\n",
    "    \n",
    "    def model_fn(self, x1, x2):\n",
    "        alpha = pyro.sample('alpha', dist.Normal(0, 10))\n",
    "        beta = pyro.sample('beta', dist.Normal(torch.zeros(2), torch.Tensor([10, 10])))\n",
    "        sigma = pyro.sample('sigma', dist.HalfNormal(scale=1)) \n",
    "        \n",
    "        mu = alpha + beta[0] * x1 + beta[1] * x2\n",
    "    \n",
    "        y = pyro.sample('y', dist.Normal(mu, sigma))\n",
    "        return y\n",
    "    \n",
    "    def observe(self, *args, **kwargs):\n",
    "#         print(**kwargs)\n",
    "        for key, value in kwargs.items():\n",
    "            print(\"{} : {}\".format(key, value.shape))\n",
    "            setattr(self, key, value)\n",
    "            self.conditioned = poutine.condition(self.model_fn, data={key: value})\n",
    "            return\n",
    "    \n",
    "    def sample(self):\n",
    "        print(self.conditioned)\n",
    "        nuts_kernel = NUTS(self.conditioned, adapt_step_size=True)\n",
    "        print(nuts_kernel)\n",
    "        posterior = MCMC(nuts_kernel, num_samples=500, warmup_steps=100).run(self.x1, self.x2)\n",
    "        return posterior"
   ]
  },
  {
   "cell_type": "code",
   "execution_count": 20,
   "metadata": {},
   "outputs": [
    {
     "name": "stdout",
     "output_type": "stream",
     "text": [
      "y : torch.Size([100])\n",
      "<function Messenger.__call__.<locals>._wraps at 0x1297250d0>\n",
      "<pyro.infer.mcmc.nuts.NUTS object at 0x1296e0978>\n"
     ]
    },
    {
     "data": {
      "application/vnd.jupyter.widget-view+json": {
       "model_id": "2e167e136a9345108fd32e687c19ac9b",
       "version_major": 2,
       "version_minor": 0
      },
      "text/plain": [
       "HBox(children=(IntProgress(value=0, description='Warmup', max=600, style=ProgressStyle(description_width='init…"
      ]
     },
     "metadata": {},
     "output_type": "display_data"
    },
    {
     "name": "stdout",
     "output_type": "stream",
     "text": [
      "\n"
     ]
    }
   ],
   "source": [
    "model = Model(x1=X1, x2=X2)\n",
    "model.observe(y=Y)\n",
    "trace = model.sample()"
   ]
  },
  {
   "cell_type": "code",
   "execution_count": 21,
   "metadata": {},
   "outputs": [],
   "source": [
    "trace_data = az.from_pyro(trace)"
   ]
  },
  {
   "cell_type": "code",
   "execution_count": 22,
   "metadata": {},
   "outputs": [
    {
     "data": {
      "text/plain": [
       "<xarray.Dataset>\n",
       "Dimensions:  (chain: 1, draw: 500, y_dim_0: 100)\n",
       "Coordinates:\n",
       "  * chain    (chain) int64 0\n",
       "  * draw     (draw) int64 0 1 2 3 4 5 6 7 8 ... 492 493 494 495 496 497 498 499\n",
       "  * y_dim_0  (y_dim_0) int64 0 1 2 3 4 5 6 7 8 9 ... 91 92 93 94 95 96 97 98 99\n",
       "Data variables:\n",
       "    y        (chain, draw, y_dim_0) float64 0.9387 0.4103 3.84 ... 1.369 1.332\n",
       "Attributes:\n",
       "    created_at:         2019-01-10T16:11:30.123758\n",
       "    inference_library:  pyro"
      ]
     },
     "execution_count": 22,
     "metadata": {},
     "output_type": "execute_result"
    }
   ],
   "source": [
    "trace_data.observed_data"
   ]
  },
  {
   "cell_type": "code",
   "execution_count": 23,
   "metadata": {},
   "outputs": [
    {
     "data": {
      "text/plain": [
       "<xarray.Dataset>\n",
       "Dimensions:     (beta_dim_0: 2, chain: 1, draw: 500)\n",
       "Coordinates:\n",
       "  * chain       (chain) int64 0\n",
       "  * draw        (draw) int64 0 1 2 3 4 5 6 7 ... 492 493 494 495 496 497 498 499\n",
       "  * beta_dim_0  (beta_dim_0) int64 0 1\n",
       "Data variables:\n",
       "    alpha       (chain, draw) float64 0.865 0.7748 1.028 ... 0.9989 0.8078 1.03\n",
       "    beta        (chain, draw, beta_dim_0) float64 0.9834 2.09 ... 1.191 2.285\n",
       "    sigma       (chain, draw) float64 1.128 1.147 1.143 ... 0.9887 0.9876 1.01\n",
       "Attributes:\n",
       "    created_at:         2019-01-10T16:11:30.031872\n",
       "    inference_library:  pyro"
      ]
     },
     "execution_count": 23,
     "metadata": {},
     "output_type": "execute_result"
    }
   ],
   "source": [
    "trace_data.posterior"
   ]
  },
  {
   "cell_type": "markdown",
   "metadata": {
    "collapsed": true
   },
   "source": [
    "# Original"
   ]
  },
  {
   "cell_type": "code",
   "execution_count": 5,
   "metadata": {
    "collapsed": true
   },
   "outputs": [],
   "source": [
    "def model(x1, x2):\n",
    "    \n",
    "    alpha = pyro.sample('alpha', dist.Normal(0, 10))\n",
    "    beta = pyro.sample('beta', dist.Normal(torch.zeros(2), torch.Tensor([10, 10])))\n",
    "    sigma = pyro.sample('sigma', dist.HalfNormal(scale=1))\n",
    "    \n",
    "    mu = alpha + beta[0] * x1 + beta[1] * x2\n",
    "    \n",
    "    y = pyro.sample('y', dist.Normal(mu, sigma))\n",
    "    return y\n",
    "\n",
    "def conditioned_model(model, x1, x2, y):\n",
    "    return poutine.condition(model, data={'y': y})(x1, x2)"
   ]
  },
  {
   "cell_type": "code",
   "execution_count": 6,
   "metadata": {},
   "outputs": [
    {
     "data": {
      "application/vnd.jupyter.widget-view+json": {
       "model_id": "7021bd2c443142dbb25ca91f334e50b9",
       "version_major": 2,
       "version_minor": 0
      },
      "text/plain": [
       "HBox(children=(IntProgress(value=0, description='Warmup', max=600, style=ProgressStyle(description_width='init…"
      ]
     },
     "metadata": {},
     "output_type": "display_data"
    },
    {
     "name": "stdout",
     "output_type": "stream",
     "text": [
      "\n"
     ]
    }
   ],
   "source": [
    "# nuts_kernel = NUTS(model, adapt_step_size=True)\n",
    "nuts_kernel = NUTS(conditioned_model, adapt_step_size=True)\n",
    "posterior = MCMC(nuts_kernel, num_samples=500, warmup_steps=100).run(model, X1, X2, Y)"
   ]
  },
  {
   "cell_type": "code",
   "execution_count": 7,
   "metadata": {
    "collapsed": true
   },
   "outputs": [],
   "source": [
    "# {'alpha': array(0.90907964),\n",
    "#  'beta': array([0.9514399 , 2.61452795]),\n",
    "#  'sigma_log__': array(-0.03492212),\n",
    "#  'sigma': array(0.96568062)}"
   ]
  },
  {
   "cell_type": "code",
   "execution_count": 8,
   "metadata": {
    "collapsed": true
   },
   "outputs": [],
   "source": [
    "pyro_data = az.from_pyro(posterior)"
   ]
  },
  {
   "cell_type": "code",
   "execution_count": 9,
   "metadata": {},
   "outputs": [
    {
     "data": {
      "text/plain": [
       "Inference data with groups:\n",
       "\t> posterior\n",
       "\t> observed_data"
      ]
     },
     "execution_count": 9,
     "metadata": {},
     "output_type": "execute_result"
    }
   ],
   "source": [
    "pyro_data"
   ]
  },
  {
   "cell_type": "code",
   "execution_count": 10,
   "metadata": {},
   "outputs": [
    {
     "data": {
      "text/html": [
       "<div>\n",
       "<style scoped>\n",
       "    .dataframe tbody tr th:only-of-type {\n",
       "        vertical-align: middle;\n",
       "    }\n",
       "\n",
       "    .dataframe tbody tr th {\n",
       "        vertical-align: top;\n",
       "    }\n",
       "\n",
       "    .dataframe thead th {\n",
       "        text-align: right;\n",
       "    }\n",
       "</style>\n",
       "<table border=\"1\" class=\"dataframe\">\n",
       "  <thead>\n",
       "    <tr style=\"text-align: right;\">\n",
       "      <th></th>\n",
       "      <th>mean</th>\n",
       "      <th>sd</th>\n",
       "      <th>mc error</th>\n",
       "      <th>hpd 3%</th>\n",
       "      <th>hpd 97%</th>\n",
       "    </tr>\n",
       "  </thead>\n",
       "  <tbody>\n",
       "    <tr>\n",
       "      <th>alpha</th>\n",
       "      <td>0.90</td>\n",
       "      <td>0.10</td>\n",
       "      <td>0.01</td>\n",
       "      <td>0.72</td>\n",
       "      <td>1.11</td>\n",
       "    </tr>\n",
       "    <tr>\n",
       "      <th>beta[0]</th>\n",
       "      <td>0.95</td>\n",
       "      <td>0.08</td>\n",
       "      <td>0.00</td>\n",
       "      <td>0.80</td>\n",
       "      <td>1.11</td>\n",
       "    </tr>\n",
       "    <tr>\n",
       "      <th>beta[1]</th>\n",
       "      <td>2.64</td>\n",
       "      <td>0.48</td>\n",
       "      <td>0.03</td>\n",
       "      <td>1.83</td>\n",
       "      <td>3.49</td>\n",
       "    </tr>\n",
       "    <tr>\n",
       "      <th>sigma</th>\n",
       "      <td>0.99</td>\n",
       "      <td>0.07</td>\n",
       "      <td>0.01</td>\n",
       "      <td>0.85</td>\n",
       "      <td>1.13</td>\n",
       "    </tr>\n",
       "  </tbody>\n",
       "</table>\n",
       "</div>"
      ],
      "text/plain": [
       "         mean    sd  mc error  hpd 3%  hpd 97%\n",
       "alpha    0.90  0.10      0.01    0.72     1.11\n",
       "beta[0]  0.95  0.08      0.00    0.80     1.11\n",
       "beta[1]  2.64  0.48      0.03    1.83     3.49\n",
       "sigma    0.99  0.07      0.01    0.85     1.13"
      ]
     },
     "execution_count": 10,
     "metadata": {},
     "output_type": "execute_result"
    }
   ],
   "source": [
    "az.summary(pyro_data)"
   ]
  },
  {
   "cell_type": "code",
   "execution_count": 11,
   "metadata": {},
   "outputs": [],
   "source": [
    "az.plot_trace(pyro_data);"
   ]
  },
  {
   "cell_type": "code",
   "execution_count": 12,
   "metadata": {},
   "outputs": [],
   "source": [
    "az.plot_posterior(pyro_data);"
   ]
  },
  {
   "cell_type": "code",
   "execution_count": null,
   "metadata": {
    "collapsed": true
   },
   "outputs": [],
   "source": []
  }
 ],
 "metadata": {
  "kernelspec": {
   "display_name": "Python 3",
   "language": "python",
   "name": "python3"
  },
  "language_info": {
   "codemirror_mode": {
    "name": "ipython",
    "version": 3
   },
   "file_extension": ".py",
   "mimetype": "text/x-python",
   "name": "python",
   "nbconvert_exporter": "python",
   "pygments_lexer": "ipython3",
   "version": "3.6.2"
  }
 },
 "nbformat": 4,
 "nbformat_minor": 2
}
